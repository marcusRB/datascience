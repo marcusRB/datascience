{
 "cells": [
  {
   "cell_type": "code",
   "execution_count": null,
   "metadata": {},
   "outputs": [],
   "source": [
    "# Check the versions of libraries\n",
    "\n",
    "# Python version\n",
    "import sys\n",
    "print('Python: {}'.format(sys.version))\n",
    "# scipy\n",
    "import scipy\n",
    "print('scipy: {}'.format(scipy.__version__))\n",
    "# numpy\n",
    "import numpy\n",
    "print('numpy: {}'.format(numpy.__version__))\n",
    "# matplotlib\n",
    "import matplotlib\n",
    "print('matplotlib: {}'.format(matplotlib.__version__))\n",
    "# pandas\n",
    "import pandas\n",
    "print('pandas: {}'.format(pandas.__version__))\n",
    "# scikit-learn\n",
    "import sklearn\n",
    "print('sklearn: {}'.format(sklearn.__version__))"
   ]
  },
  {
   "cell_type": "code",
   "execution_count": null,
   "metadata": {},
   "outputs": [],
   "source": [
    "# data analysis and wrangling\n",
    "import pandas as pd\n",
    "import numpy as np\n",
    "import random as rnd\n",
    "\n",
    "# visualization\n",
    "import seaborn as sns\n",
    "from scipy.stats import norm\n",
    "import matplotlib.pyplot as plt\n",
    "%matplotlib inline\n",
    "\n",
    "# machine learning\n",
    "from sklearn.linear_model import LogisticRegression\n",
    "from sklearn.svm import SVC\n",
    "from sklearn.svm import LinearSVC\n",
    "from sklearn.ensemble import RandomForestClassifier\n",
    "from sklearn.neighbors import KNeighborsClassifier\n",
    "from sklearn.naive_bayes import GaussianNB\n",
    "from sklearn.linear_model import Perceptron\n",
    "from sklearn.linear_model import SGDClassifier\n",
    "from sklearn.tree import DecisionTreeClassifier\n",
    "from sklearn.discriminant_analysis import LinearDiscriminantAnalysis\n",
    "from sklearn.neural_network import MLPClassifier\n",
    "\n",
    "## scikit modeling libraries\n",
    "from sklearn.ensemble import (RandomForestClassifier, AdaBoostClassifier,\n",
    "                             GradientBoostingClassifier, ExtraTreesClassifier,\n",
    "                             VotingClassifier)\n",
    "\n",
    "from sklearn.model_selection import (GridSearchCV, cross_val_score, cross_val_predict,\n",
    "                                     StratifiedKFold, learning_curve)\n",
    "\n",
    "## Load metrics for predictive modeling\n",
    "from sklearn.model_selection import train_test_split\n",
    "from sklearn.model_selection import cross_val_score\n",
    "from sklearn.metrics import classification_report\n",
    "from sklearn.metrics import confusion_matrix\n",
    "from sklearn.metrics import accuracy_score\n",
    "from sklearn.metrics import roc_curve, auc\n",
    "from sklearn import metrics\n",
    "\n",
    "## Warnings and other tools\n",
    "import itertools\n",
    "import warnings\n",
    "warnings.filterwarnings(\"ignore\")"
   ]
  },
  {
   "cell_type": "code",
   "execution_count": null,
   "metadata": {},
   "outputs": [],
   "source": [
    "train_dataset = pd.read_csv('train.csv.zip')\n",
    "train_dataset.head(5)"
   ]
  },
  {
   "cell_type": "code",
   "execution_count": null,
   "metadata": {},
   "outputs": [],
   "source": [
    "test_dataset = pd.read_csv('test.csv.zip')\n",
    "test_dataset.head(5)"
   ]
  },
  {
   "cell_type": "markdown",
   "metadata": {},
   "source": [
    "## Primer modelo 15 variables con más correlación"
   ]
  },
  {
   "cell_type": "code",
   "execution_count": null,
   "metadata": {},
   "outputs": [],
   "source": [
    "#target correlation matrix\n",
    "k = 15 #number of variables for heatmap\n",
    "plt.figure(figsize=(16,8))\n",
    "corrmat = train_dataset.corr()\n",
    "# picking the top 15 correlated features\n",
    "cols = corrmat.nlargest(k, 'target')['target'].index\n",
    "cm = np.corrcoef(train_dataset[cols].values.T)\n",
    "sns.set(font_scale=1.25)\n",
    "hm = sns.heatmap(cm, cbar=True, annot=True, square=True, fmt='.2f', annot_kws={'size': 10}, yticklabels=cols.values, xticklabels=cols.values)\n",
    "plt.show()"
   ]
  },
  {
   "cell_type": "code",
   "execution_count": null,
   "metadata": {},
   "outputs": [],
   "source": [
    "# loop inside a new features\n",
    "H_features = []\n",
    "for c in cols:\n",
    "    H_features.append(c)\n",
    "H_features"
   ]
  },
  {
   "cell_type": "code",
   "execution_count": null,
   "metadata": {},
   "outputs": [],
   "source": [
    "# create new model dataset for second part\n",
    "features_dataset_1 = train_dataset[H_features]\n",
    "features_dataset_1.head(10)"
   ]
  },
  {
   "cell_type": "code",
   "execution_count": null,
   "metadata": {},
   "outputs": [],
   "source": [
    "# show the new dataset with 15 features\n",
    "features_dataset_1.shape"
   ]
  },
  {
   "cell_type": "code",
   "execution_count": null,
   "metadata": {},
   "outputs": [],
   "source": [
    "# Split and drop Churn variable\n",
    "X_train = features_dataset_1.drop('target', axis=1)\n",
    "Y_train = features_dataset_1['target']\n",
    "\n",
    "# Cross validate model with Kfold stratified cross val\n",
    "K_fold = StratifiedKFold(n_splits=10)\n",
    "\n",
    "\n",
    "# Modeling step Test differents algorithms \n",
    "random_state = 2\n",
    "\n",
    "models = [] # append all models or predictive models \n",
    "cv_results = [] # cross validation result\n",
    "cv_means = [] # cross validation mean value\n",
    "cv_std = [] # cross validation standard deviation\n",
    "\n",
    "models.append(KNeighborsClassifier())\n",
    "models.append(AdaBoostClassifier(DecisionTreeClassifier(random_state=random_state),random_state=random_state,learning_rate=0.1))\n",
    "models.append(DecisionTreeClassifier(random_state=random_state))\n",
    "models.append(RandomForestClassifier(random_state=random_state))\n",
    "models.append(ExtraTreesClassifier(random_state=random_state))\n",
    "models.append(SVC(random_state=random_state))\n",
    "models.append(GradientBoostingClassifier(random_state=random_state))\n",
    "models.append(LogisticRegression(random_state = random_state))\n",
    "models.append(LinearDiscriminantAnalysis())\n",
    "models.append(MLPClassifier(random_state=random_state))\n",
    "\n",
    "\n",
    "for model in models :\n",
    "    cv_results.append(cross_val_score(model, X_train, Y_train, \n",
    "                                      scoring = \"accuracy\", cv = K_fold, n_jobs=4))\n",
    "\n",
    "for cv_result in cv_results:\n",
    "    cv_means.append(cv_result.mean())\n",
    "    cv_std.append(cv_result.std())\n",
    "\n",
    "cv_frame = pd.DataFrame(\n",
    "    {\n",
    "        \"CrossValMeans\":cv_means,\n",
    "        \"CrossValErrors\": cv_std,\n",
    "        \"Algorithms\":[\n",
    "                     \"KNeighboors\",\n",
    "                     \"AdaBoost\", \n",
    "                     \"DecisionTree\",   \n",
    "                     \"RandomForest\",\n",
    "                     \"ExtraTrees\",\n",
    "                     \"SVC\",\n",
    "                     \"GradientBoosting\",                      \n",
    "                     \"LogisticRegression\",\n",
    "                     \"LinearDiscriminantAnalysis\",\n",
    "                     \"MultipleLayerPerceptron\"]\n",
    "    })\n",
    "\n",
    "cv_plot = sns.barplot(\"CrossValMeans\",\"Algorithms\", data = cv_frame,\n",
    "                palette=\"husl\", orient = \"h\", **{'xerr':cv_std})\n",
    "\n",
    "cv_plot.set_xlabel(\"Mean Accuracy\")\n",
    "cv_plot = cv_plot.set_title(\"CV Scores\")"
   ]
  },
  {
   "cell_type": "code",
   "execution_count": null,
   "metadata": {},
   "outputs": [],
   "source": [
    "# Split and drop Churn variable\n",
    "X_train = features_dataset_1.drop('target', axis=1)\n",
    "y_train = features_dataset_1['target']\n",
    "\n",
    "# Create train and test 80-20 with seed fixed to 42 for validation the model\n",
    "X_train, X_test, y_train, y_test = train_test_split(X_train, y_train, test_size=0.20, random_state=42)"
   ]
  },
  {
   "cell_type": "code",
   "execution_count": null,
   "metadata": {},
   "outputs": [],
   "source": [
    "X_train.shape, y_train.shape, X_test.shape, y_test.shape"
   ]
  },
  {
   "cell_type": "code",
   "execution_count": null,
   "metadata": {},
   "outputs": [],
   "source": [
    "# Create a performance_auc dict\n",
    "performance_auc = {}"
   ]
  },
  {
   "cell_type": "code",
   "execution_count": null,
   "metadata": {},
   "outputs": [],
   "source": [
    "performance_auc"
   ]
  },
  {
   "cell_type": "code",
   "execution_count": null,
   "metadata": {},
   "outputs": [],
   "source": [
    "# Logistic Regression\n",
    "model = LogisticRegression().fit(X_train, y_train)\n",
    "model"
   ]
  },
  {
   "cell_type": "code",
   "execution_count": null,
   "metadata": {},
   "outputs": [],
   "source": [
    "predicted_log = model.predict(X_test)\n",
    "predicted_log"
   ]
  },
  {
   "cell_type": "code",
   "execution_count": null,
   "metadata": {},
   "outputs": [],
   "source": [
    "# Confidence score\n",
    "logreg_score_1 = round(model.score(X_train,y_train) * 100, 2)\n",
    "\n",
    "print(logreg_score_1)\n",
    "\n",
    "print(classification_report(y_test, predicted_log))"
   ]
  },
  {
   "cell_type": "code",
   "execution_count": null,
   "metadata": {},
   "outputs": [],
   "source": [
    "# Create a confusion matrix\n",
    "matrix = confusion_matrix(y_test, predicted_log)\n",
    "sns.heatmap(matrix, annot=True, fmt=\"d\", cmap='Blues', square=True)\n",
    "plt.xlabel(\"predicted\")\n",
    "plt.ylabel(\"actual\")\n",
    "plt"
   ]
  },
  {
   "cell_type": "code",
   "execution_count": null,
   "metadata": {},
   "outputs": [],
   "source": [
    "# Visualize results by ROC graph\n",
    "fpr, tpr, thresholds = roc_curve(y_test, predicted_log)\n",
    "roc_auc = auc(fpr, tpr)\n",
    "performance_auc['Logistic Regression'] = roc_auc\n",
    "\n",
    "# Plotting\n",
    "plt.figure()\n",
    "lw = 2\n",
    "plt.plot(fpr, tpr, color='darkorange', lw=lw, label='ROC curve (area = %0.2f)' % roc_auc)\n",
    "plt.plot([0, 1], [0, 1], color='navy', lw=lw, linestyle='--')\n",
    "plt.xlim([0.0, 1.0])\n",
    "plt.ylim([0.0, 1.05])\n",
    "plt.xlabel('False Positive Rate')\n",
    "plt.ylabel('True Positive Rate')\n",
    "plt.title('Receiver operating characteristic example')\n",
    "plt.legend(loc=\"lower right\")\n",
    "plt.show()"
   ]
  },
  {
   "cell_type": "code",
   "execution_count": null,
   "metadata": {},
   "outputs": [],
   "source": [
    "print('MAE:', metrics.mean_absolute_error(y_test, predicted_log))\n",
    "print('MSE:', metrics.mean_squared_error(y_test, predicted_log))\n",
    "print('RMSE:', np.sqrt(metrics.mean_squared_error(y_test, predicted_log)))"
   ]
  },
  {
   "cell_type": "code",
   "execution_count": null,
   "metadata": {},
   "outputs": [],
   "source": [
    "# Decision Tree\n",
    "model = DecisionTreeClassifier().fit(X_train, y_train)\n",
    "model"
   ]
  },
  {
   "cell_type": "code",
   "execution_count": null,
   "metadata": {},
   "outputs": [],
   "source": [
    "predicted_dt = model.predict(X_test)\n",
    "predicted_dt"
   ]
  },
  {
   "cell_type": "code",
   "execution_count": null,
   "metadata": {},
   "outputs": [],
   "source": [
    "# Confidence score\n",
    "dectree_score_1 = round(model.score(X_train,y_train) * 100, 2)\n",
    "print(dectree_score_1)\n",
    "print(classification_report(y_test, predicted_dt))"
   ]
  },
  {
   "cell_type": "code",
   "execution_count": null,
   "metadata": {},
   "outputs": [],
   "source": [
    "# Create a confusion matrix\n",
    "matrix = confusion_matrix(y_test, predicted_dt)\n",
    "sns.heatmap(matrix, annot=True, fmt=\"d\", cmap='Blues', square=True)\n",
    "plt.xlabel(\"predicted\")\n",
    "plt.ylabel(\"actual\")\n",
    "plt"
   ]
  },
  {
   "cell_type": "code",
   "execution_count": null,
   "metadata": {},
   "outputs": [],
   "source": [
    "# Visualize results by ROC graph\n",
    "fpr, tpr, thresholds = roc_curve(y_test, predicted_dt)\n",
    "roc_auc = auc(fpr, tpr)\n",
    "performance_auc['Decision Tree'] = roc_auc\n",
    "\n",
    "# Plotting\n",
    "plt.figure()\n",
    "lw = 2\n",
    "plt.plot(fpr, tpr, color='darkorange', lw=lw, label='ROC curve (area = %0.2f)' % roc_auc)\n",
    "plt.plot([0, 1], [0, 1], color='navy', lw=lw, linestyle='--')\n",
    "plt.xlim([0.0, 1.0])\n",
    "plt.ylim([0.0, 1.05])\n",
    "plt.xlabel('False Positive Rate')\n",
    "plt.ylabel('True Positive Rate')\n",
    "plt.title('Receiver operating characteristic example')\n",
    "plt.legend(loc=\"lower right\")\n",
    "plt.show()"
   ]
  },
  {
   "cell_type": "code",
   "execution_count": null,
   "metadata": {},
   "outputs": [],
   "source": [
    "pd.concat((pd.DataFrame(X_train.iloc[:, 1:].columns, columns = ['variable']), \n",
    "           pd.DataFrame(model.feature_importances_, columns = ['importance'])), \n",
    "          axis = 1).sort_values(by='importance', ascending = False)[:20]"
   ]
  },
  {
   "cell_type": "code",
   "execution_count": null,
   "metadata": {},
   "outputs": [],
   "source": [
    "print('MAE:', metrics.mean_absolute_error(y_test, predicted_dt))\n",
    "print('MSE:', metrics.mean_squared_error(y_test, predicted_dt))\n",
    "print('RMSE:', np.sqrt(metrics.mean_squared_error(y_test, predicted_dt)))"
   ]
  },
  {
   "cell_type": "code",
   "execution_count": null,
   "metadata": {},
   "outputs": [],
   "source": [
    "# Random Forest\n",
    "model = RandomForestClassifier(n_estimators=100, max_depth=2, random_state=0).fit(X_train, y_train)\n",
    "model"
   ]
  },
  {
   "cell_type": "code",
   "execution_count": null,
   "metadata": {},
   "outputs": [],
   "source": [
    "predicted_rf = model.predict(X_test)\n",
    "predicted_rf"
   ]
  },
  {
   "cell_type": "code",
   "execution_count": null,
   "metadata": {},
   "outputs": [],
   "source": [
    "matrix = confusion_matrix(y_test, predicted_rf)\n",
    "sns.heatmap(matrix, annot=True, fmt=\"d\", cmap='Blues', square=True)\n",
    "plt.xlabel(\"predicted\")\n",
    "plt.ylabel(\"actual\")\n",
    "plt"
   ]
  },
  {
   "cell_type": "code",
   "execution_count": null,
   "metadata": {},
   "outputs": [],
   "source": [
    "fpr, tpr, thresholds = roc_curve(y_test, predicted_rf)\n",
    "roc_auc = auc(fpr, tpr)\n",
    "performance_auc['Random Forests'] = roc_auc\n",
    "\n",
    "plt.figure()\n",
    "lw = 2\n",
    "plt.plot(fpr, tpr, color='darkorange', lw=lw, label='ROC curve (area = %0.2f)' % roc_auc)\n",
    "plt.plot([0, 1], [0, 1], color='navy', lw=lw, linestyle='--')\n",
    "plt.xlim([0.0, 1.0])\n",
    "plt.ylim([0.0, 1.05])\n",
    "plt.xlabel('False Positive Rate')\n",
    "plt.ylabel('True Positive Rate')\n",
    "plt.title('Receiver operating characteristic example')\n",
    "plt.legend(loc=\"lower right\")\n",
    "plt.show()"
   ]
  },
  {
   "cell_type": "code",
   "execution_count": null,
   "metadata": {},
   "outputs": [],
   "source": [
    "pd.concat((pd.DataFrame(X_train.iloc[:, 1:].columns, columns = ['variable']), \n",
    "           pd.DataFrame(model.feature_importances_, columns = ['importance'])), \n",
    "          axis = 1).sort_values(by='importance', ascending = False)[:20]"
   ]
  },
  {
   "cell_type": "code",
   "execution_count": null,
   "metadata": {},
   "outputs": [],
   "source": [
    "# KNN\n",
    "model = KNeighborsClassifier(3).fit(X_train, y_train)\n",
    "model"
   ]
  },
  {
   "cell_type": "code",
   "execution_count": null,
   "metadata": {},
   "outputs": [],
   "source": [
    "predicted_knn = model.predict(X_test)\n",
    "predicted_knn"
   ]
  },
  {
   "cell_type": "code",
   "execution_count": null,
   "metadata": {},
   "outputs": [],
   "source": [
    "# Confidence score\n",
    "knn_score_1 = round(model.score(X_train,y_train) * 100, 2)\n",
    "print(knn_score_1)\n",
    "print(classification_report(y_test, predicted_knn))"
   ]
  },
  {
   "cell_type": "code",
   "execution_count": null,
   "metadata": {},
   "outputs": [],
   "source": [
    "matrix = confusion_matrix(y_test, predicted_knn)\n",
    "sns.heatmap(matrix, annot=True, fmt=\"d\", cmap='Blues', square=True)\n",
    "plt.xlabel(\"predicted\")\n",
    "plt.ylabel(\"actual\")\n",
    "plt"
   ]
  },
  {
   "cell_type": "code",
   "execution_count": null,
   "metadata": {},
   "outputs": [],
   "source": [
    "fpr, tpr, thresholds = roc_curve(y_test, predicted_knn)\n",
    "roc_auc = auc(fpr, tpr)\n",
    "performance_auc['k-nearest neighbours'] = roc_auc\n",
    "\n",
    "plt.figure()\n",
    "lw = 2\n",
    "plt.plot(fpr, tpr, color='darkorange', lw=lw, label='ROC curve (area = %0.2f)' % roc_auc)\n",
    "plt.plot([0, 1], [0, 1], color='navy', lw=lw, linestyle='--')\n",
    "plt.xlim([0.0, 1.0])\n",
    "plt.ylim([0.0, 1.05])\n",
    "plt.xlabel('False Positive Rate')\n",
    "plt.ylabel('True Positive Rate')\n",
    "plt.title('Receiver operating characteristic example')\n",
    "plt.legend(loc=\"lower right\")\n",
    "plt.show()"
   ]
  },
  {
   "cell_type": "code",
   "execution_count": null,
   "metadata": {},
   "outputs": [],
   "source": [
    "# SVM\n",
    "model = SVC(probability=True, ).fit(X_train, y_train)\n",
    "model"
   ]
  },
  {
   "cell_type": "code",
   "execution_count": null,
   "metadata": {},
   "outputs": [],
   "source": [
    "predicted_sv = model.predict(X_test)\n",
    "predicted_sv"
   ]
  },
  {
   "cell_type": "code",
   "execution_count": null,
   "metadata": {},
   "outputs": [],
   "source": [
    "# Confidence score\n",
    "svm_score_1 = round(model.score(X_train,y_train) * 100, 2)\n",
    "print(svm_score_1)\n",
    "print(classification_report(y_test, predicted_sv))"
   ]
  },
  {
   "cell_type": "code",
   "execution_count": null,
   "metadata": {},
   "outputs": [],
   "source": [
    "matrix = confusion_matrix(y_test, predicted_sv)\n",
    "sns.heatmap(matrix, annot=True, fmt=\"d\", cmap='Blues', square=True)\n",
    "plt.xlabel(\"predicted\")\n",
    "plt.ylabel(\"actual\")\n",
    "plt"
   ]
  },
  {
   "cell_type": "code",
   "execution_count": null,
   "metadata": {},
   "outputs": [],
   "source": [
    "fpr, tpr, thresholds = roc_curve(y_test, predicted_sv)\n",
    "roc_auc = auc(fpr, tpr)\n",
    "performance_auc['SVM'] = roc_auc\n",
    "\n",
    "plt.figure()\n",
    "lw = 2\n",
    "plt.plot(fpr, tpr, color='darkorange', lw=lw, label='ROC curve (area = %0.2f)' % roc_auc)\n",
    "plt.plot([0, 1], [0, 1], color='navy', lw=lw, linestyle='--')\n",
    "plt.xlim([0.0, 1.0])\n",
    "plt.ylim([0.0, 1.05])\n",
    "plt.xlabel('False Positive Rate')\n",
    "plt.ylabel('True Positive Rate')\n",
    "plt.title('Receiver operating characteristic example')\n",
    "plt.legend(loc=\"lower right\")\n",
    "plt.show()"
   ]
  },
  {
   "cell_type": "code",
   "execution_count": null,
   "metadata": {},
   "outputs": [],
   "source": [
    "perf = pd.DataFrame.from_dict(performance_auc, orient='index')\n",
    "perf['Model'] = perf.index\n",
    "perf['AUC'] = perf[0]\n",
    "plt.xlabel('AUC')\n",
    "plt.title('Classifier AUC')\n",
    "sns.set_color_codes(\"muted\")\n",
    "sns.barplot(x='AUC', y='Model', data=perf, color=\"b\")"
   ]
  },
  {
   "cell_type": "code",
   "execution_count": null,
   "metadata": {},
   "outputs": [],
   "source": [
    "models = pd.DataFrame({\n",
    "    'Model': ['Support Vector Machines', 'KNN', 'Logistic Regression', \n",
    "              'Random Forest', 'Decision Tree'],\n",
    "    'Score_1st': [svm_score_1, \n",
    "              knn_score_1, \n",
    "              logreg_score_1, \n",
    "              randfor_score_1,\n",
    "              dectree_score_1 ]})\n",
    "models.sort_values(by='Score_1st', ascending=False)"
   ]
  },
  {
   "cell_type": "code",
   "execution_count": null,
   "metadata": {},
   "outputs": [],
   "source": [
    "# Submission\n",
    "ID_code = test_dataset['ID_code']\n",
    "\n",
    "Predictive_Model = pd.DataFrame({\n",
    "        \"ID_code\": ID_code,\n",
    "        \"target\": VotingPredictor.predict(test)})\n",
    "\n",
    "Predictive_Model.to_csv('submission_1.csv', index=False)"
   ]
  }
 ],
 "metadata": {
  "kernelspec": {
   "display_name": "Python 3",
   "language": "python",
   "name": "python3"
  },
  "language_info": {
   "codemirror_mode": {
    "name": "ipython",
    "version": 3
   },
   "file_extension": ".py",
   "mimetype": "text/x-python",
   "name": "python",
   "nbconvert_exporter": "python",
   "pygments_lexer": "ipython3",
   "version": "3.6.10"
  }
 },
 "nbformat": 4,
 "nbformat_minor": 2
}
